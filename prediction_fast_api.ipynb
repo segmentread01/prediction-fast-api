{
 "cells": [
  {
   "cell_type": "code",
   "execution_count": 13,
   "id": "7d22ee0a",
   "metadata": {},
   "outputs": [
    {
     "name": "stdout",
     "output_type": "stream",
     "text": [
      "Overwriting appfile.py\n"
     ]
    }
   ],
   "source": [
    "%%writefile appfile.py\n",
    "\n",
    "import pickle\n",
    "from fastapi import FastAPI\n",
    "import uvicorn\n",
    "import gunicorn\n",
    "from pydantic import BaseModel\n",
    "from lightgbm import LGBMClassifier\n",
    "from sklego.meta import Thresholder\n",
    "\n",
    "\n",
    "\n",
    "\n",
    "# define class which describes test data measurements\n",
    "class class_testdata(BaseModel):\n",
    "    \n",
    "    DaysEmployed: float\n",
    "    ExtSource3: float\n",
    "    DaysBirth: float\n",
    "    ApartmentAvg: float\n",
    "    DaysRegistration: float\n",
    "    CreditTypeMicroloan: float\n",
    "    PrevDaysDecisionMin: float\n",
    "    IdClient: int\n",
    "    \n",
    "#class class_item(BaseModel):\n",
    "#    prediction: float        \n",
    "# app object creation\n",
    "\n",
    "app = FastAPI()\n",
    "pickle_in = open('mlflow_model/model.pkl', 'rb') # load threshold model for probability prediction\\n\",\n",
    "classifier = pickle.load(pickle_in)\n",
    "@app.get('/')\n",
    "def root():\n",
    "    return {'message': 'Welcome! This is an fastapi application. You can make prdiction on the client credit default probability by entering values in listed features!'}\n",
    "\n",
    "\n",
    "# make prediction functionality\\n\",\n",
    "#@app.post('/predict', response_model=class_item) # the API's name\n",
    "@app.post('/predict')\n",
    "async def client_predict(data: class_testdata):\n",
    "    data = data.dict()\n",
    "    IdClient= data['IdClient']\n",
    "    DaysEmployed= data['DaysEmployed']\n",
    "    ExtSource3= data['ExtSource3']\n",
    "    DaysBirth= data['DaysBirth']\n",
    "    ApartmentAvg= data['ApartmentAvg']\n",
    "    DaysRegistration= data['DaysRegistration']\n",
    "    CreditTypeMicroloan= data['CreditTypeMicroloan']\n",
    "    PrevDaysDecisionMin = data['PrevDaysDecisionMin']\n",
    "    \n",
    "    prediction = classifier.predict_proba([[DaysEmployed, ExtSource3,  \n",
    "                                   DaysBirth, ApartmentAvg, DaysRegistration, CreditTypeMicroloan, PrevDaysDecisionMin]])\n",
    "    \n",
    "    prediction_default = prediction[0][0]\n",
    "   \n",
    "    return prediction_default\n"
   ]
  },
  {
   "cell_type": "code",
   "execution_count": null,
   "id": "bdef2b46",
   "metadata": {},
   "outputs": [],
   "source": []
  }
 ],
 "metadata": {
  "kernelspec": {
   "display_name": "Python 3 (ipykernel)",
   "language": "python",
   "name": "python3"
  },
  "language_info": {
   "codemirror_mode": {
    "name": "ipython",
    "version": 3
   },
   "file_extension": ".py",
   "mimetype": "text/x-python",
   "name": "python",
   "nbconvert_exporter": "python",
   "pygments_lexer": "ipython3",
   "version": "3.9.13"
  }
 },
 "nbformat": 4,
 "nbformat_minor": 5
}
